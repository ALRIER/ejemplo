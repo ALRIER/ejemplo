{
  "nbformat": 4,
  "nbformat_minor": 0,
  "metadata": {
    "colab": {
      "provenance": [],
      "authorship_tag": "ABX9TyNZ20DAAMhUqf5jBTZoexma",
      "include_colab_link": true
    },
    "kernelspec": {
      "name": "python3",
      "display_name": "Python 3"
    },
    "language_info": {
      "name": "python"
    }
  },
  "cells": [
    {
      "cell_type": "markdown",
      "metadata": {
        "id": "view-in-github",
        "colab_type": "text"
      },
      "source": [
        "<a href=\"https://colab.research.google.com/github/ALRIER/ejemplo/blob/main/Ejemplo.ipynb\" target=\"_parent\"><img src=\"https://colab.research.google.com/assets/colab-badge.svg\" alt=\"Open In Colab\"/></a>"
      ]
    },
    {
      "cell_type": "markdown",
      "source": [
        "kdjfgnkdfn"
      ],
      "metadata": {
        "id": "NWI0_8Rhk3ar"
      }
    },
    {
      "cell_type": "code",
      "execution_count": null,
      "metadata": {
        "id": "lS30MeRktwLe"
      },
      "outputs": [],
      "source": [
        "fgvkfgk"
      ]
    },
    {
      "cell_type": "markdown",
      "source": [
        "fgkfjk"
      ],
      "metadata": {
        "id": "Z3NtWPFTs3M4"
      }
    },
    {
      "cell_type": "code",
      "source": [
        "fhkfhk"
      ],
      "metadata": {
        "id": "BqecAdpMs3ne"
      },
      "execution_count": null,
      "outputs": []
    },
    {
      "cell_type": "markdown",
      "source": [
        "fjkfk"
      ],
      "metadata": {
        "id": "3hLltMf3s4Gf"
      }
    },
    {
      "cell_type": "code",
      "source": [
        "fhjk"
      ],
      "metadata": {
        "id": "kFiA080Is4e7"
      },
      "execution_count": null,
      "outputs": []
    }
  ]
}